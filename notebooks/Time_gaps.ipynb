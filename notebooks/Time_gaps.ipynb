{
 "cells": [
  {
   "cell_type": "code",
   "execution_count": 1,
   "metadata": {},
   "outputs": [],
   "source": [
    "%load_ext autoreload\n",
    "%autoreload 2"
   ]
  },
  {
   "cell_type": "code",
   "execution_count": 2,
   "metadata": {},
   "outputs": [],
   "source": [
    "import os\n",
    "import sys\n",
    "import pickle\n",
    "\n",
    "from hydra import compose, initialize\n",
    "import numpy as np\n",
    "import pandas as pd\n",
    "from scipy import stats\n",
    "import matplotlib.pyplot as plt\n"
   ]
  },
  {
   "cell_type": "code",
   "execution_count": 3,
   "metadata": {},
   "outputs": [],
   "source": [
    "sys.path.append('../')"
   ]
  },
  {
   "cell_type": "code",
   "execution_count": 4,
   "metadata": {},
   "outputs": [
    {
     "data": {
      "text/plain": [
       "{'save_results': True, 'split_type': 'global_timesplit', 'split_params': {'quantile': None, 'validation_quantile': '${split_params.quantile}', 'validation_type': 'by_user', 'validation_size': None}, 'dataset': {'name': 'Movielens-1m', 'filter_seen': True, 'column_name': {'user_id': 'user_id', 'item_id': 'item_id', 'timestamp': 'timestamp', 'relevance': None}}}"
      ]
     },
     "execution_count": 4,
     "metadata": {},
     "output_type": "execute_result"
    }
   ],
   "source": [
    "with initialize(version_base=None, config_path=\"../runs/configs\"):\n",
    "    config = compose(config_name=\"split\")\n",
    "config"
   ]
  },
  {
   "cell_type": "code",
   "execution_count": 5,
   "metadata": {},
   "outputs": [],
   "source": [
    "DATASET=\"Zvuk\"\n",
    "config.update({\"split_params\": {\"quantile\": 0.9, \n",
    "                                 \"validation_type\": \"by_time\"}, \n",
    "               \"split_type\": \"global_timesplit\", \n",
    "               \"dataset\": {\"name\": DATASET}})"
   ]
  },
  {
   "cell_type": "code",
   "execution_count": 6,
   "metadata": {},
   "outputs": [],
   "source": [
    "import warnings\n",
    "warnings.filterwarnings(\"ignore\")"
   ]
  },
  {
   "cell_type": "code",
   "execution_count": 7,
   "metadata": {},
   "outputs": [],
   "source": [
    "SEQ_SPLITS_DATA_PATH = \"../data/\""
   ]
  },
  {
   "cell_type": "code",
   "execution_count": 8,
   "metadata": {},
   "outputs": [],
   "source": [
    "def get_splitted_path(config):\n",
    "    split_subtype = config.split_params.validation_type or \"\"\n",
    "    q = (\n",
    "        \"q0\" + str(config.split_params.quantile)[2:]\n",
    "        if config.split_type == \"global_timesplit\"\n",
    "        else \"\"\n",
    "    )\n",
    "    return os.path.join(\n",
    "        os.path.join(\n",
    "            SEQ_SPLITS_DATA_PATH,\n",
    "            \"splitted\",\n",
    "            config.split_type,\n",
    "            f\"val_{split_subtype}\" if config.split_type == \"global_timesplit\" else \"\",\n",
    "            config.dataset.name,\n",
    "            q,\n",
    "        )\n",
    "    )\n",
    "\n",
    "data_path = get_splitted_path(config)\n",
    "data_path\n",
    "prepr_path = os.path.join(\n",
    "        SEQ_SPLITS_DATA_PATH, 'preprocessed')\n"
   ]
  },
  {
   "cell_type": "code",
   "execution_count": 9,
   "metadata": {},
   "outputs": [
    {
     "data": {
      "text/plain": [
       "1680935068.1974"
      ]
     },
     "execution_count": 9,
     "metadata": {},
     "output_type": "execute_result"
    }
   ],
   "source": [
    "with open(os.path.join(data_path,'time_threshold.pkl'), 'rb') as f:\n",
    "    global_timepoint = pickle.load(f)\n",
    "global_timepoint"
   ]
  },
  {
   "cell_type": "code",
   "execution_count": 10,
   "metadata": {},
   "outputs": [
    {
     "name": "stdout",
     "output_type": "stream",
     "text": [
      "prepr shape (8087953, 3)\n",
      "validation shape (5774861, 3)\n",
      "test shape (6379540, 3)\n"
     ]
    }
   ],
   "source": [
    "prepr = pd.read_csv(os.path.join(prepr_path, config.dataset.name + '.csv'))\n",
    "print('prepr shape', prepr.shape)\n",
    "validation = pd.read_csv(os.path.join(data_path, 'validation.csv'))\n",
    "print('validation shape', validation.shape)\n",
    "test = pd.read_csv(os.path.join(data_path, 'test.csv'))\n",
    "print('test shape', test.shape)\n",
    "\n",
    "max_item_id = max(prepr.item_id.max(), test.item_id.max(), validation.item_id.max())"
   ]
  },
  {
   "cell_type": "markdown",
   "metadata": {},
   "source": [
    "## Figure 4: Distribution of time gaps "
   ]
  },
  {
   "cell_type": "code",
   "execution_count": 11,
   "metadata": {},
   "outputs": [],
   "source": [
    "from runs.statistics import get_deltas, get_time_idx_reversed, get_two_last"
   ]
  },
  {
   "cell_type": "code",
   "execution_count": 12,
   "metadata": {},
   "outputs": [],
   "source": [
    "user_col=\"user_id\"\n",
    "timestamp_col=\"timestamp\"\n",
    "df = test\n",
    "df = df.sort_values([timestamp_col], kind='stable')"
   ]
  },
  {
   "cell_type": "code",
   "execution_count": 13,
   "metadata": {},
   "outputs": [
    {
     "data": {
      "text/plain": [
       "((808796, 4), (5570744, 4))"
      ]
     },
     "execution_count": 13,
     "metadata": {},
     "output_type": "execute_result"
    }
   ],
   "source": [
    "df_gt = get_time_idx_reversed(df[df[timestamp_col] > global_timepoint])\n",
    "df_input = get_time_idx_reversed(df[df[timestamp_col] <= global_timepoint])\n",
    "df_gt.shape, df_input.shape"
   ]
  },
  {
   "cell_type": "code",
   "execution_count": 14,
   "metadata": {},
   "outputs": [],
   "source": [
    "last_input_item = df_input[df_input['time_idx_reversed'] == 0].drop(columns=['time_idx_reversed']).reset_index(drop=True)"
   ]
  },
  {
   "cell_type": "code",
   "execution_count": 15,
   "metadata": {},
   "outputs": [],
   "source": [
    "delta_data = {}"
   ]
  },
  {
   "cell_type": "code",
   "execution_count": 16,
   "metadata": {},
   "outputs": [],
   "source": [
    "delta_data[\"first\"] = df_gt[df_gt[\"time_idx_reversed\"] == df_gt.groupby(\"user_id\")[\"time_idx_reversed\"].transform(max)]\n",
    "delta_data[\"successive\"] = df_gt"
   ]
  },
  {
   "cell_type": "code",
   "execution_count": 17,
   "metadata": {},
   "outputs": [],
   "source": [
    "np.random.seed(123)\n",
    "random_gt_position = df_gt.groupby(\"user_id\")[\"time_idx_reversed\"].max().apply(lambda x: np.random.randint(0, x + 1))\n",
    "delta_data[\"random\"] = df_gt[df_gt[\"time_idx_reversed\"] >= df_gt[\"user_id\"].map(random_gt_position)]"
   ]
  },
  {
   "cell_type": "code",
   "execution_count": 18,
   "metadata": {},
   "outputs": [],
   "source": [
    "for gt_name, current_gt_data in delta_data.copy().items():\n",
    "    concatenated = pd.concat([last_input_item, current_gt_data[[\"user_id\", \"item_id\", \"timestamp\"]]], ignore_index=True)\n",
    "    if gt_name == \"successive\":\n",
    "        delta_data[\"last\"] = get_two_last(concatenated)\n",
    "        delta_data[gt_name] = concatenated\n",
    "    else:\n",
    "        delta_data[gt_name] = get_two_last(concatenated)"
   ]
  },
  {
   "cell_type": "code",
   "execution_count": 19,
   "metadata": {},
   "outputs": [
    {
     "name": "stdout",
     "output_type": "stream",
     "text": [
      "Kolmogorov-Smirnov test statistic for First: 0.9105705353312016\n",
      "Kolmogorov-Smirnov test statistic for Successive: 0.0871573717389269\n",
      "Kolmogorov-Smirnov test statistic for Random: 0.1674627985788219\n",
      "Kolmogorov-Smirnov test statistic for Last: 0.1312582602259933\n"
     ]
    }
   ],
   "source": [
    "delta_data_to_plot = []\n",
    "labels = []\n",
    "prepr = get_deltas(prepr)\n",
    "delta_data_to_plot.append(np.log(1 + prepr[\"delta\"][prepr[\"delta\"] < prepr[\"delta\"].quantile(0.99)]))\n",
    "labels.append('Full data')\n",
    "\n",
    "for gt_name, current_data in delta_data.items():\n",
    "    current_deltas = get_deltas(current_data)\n",
    "    delta_data_to_plot.append(np.log(1 + current_deltas[\"delta\"][current_deltas[\"delta\"] < current_deltas[\"delta\"].quantile(0.99)]))\n",
    "    labels.append(str.capitalize(gt_name))\n",
    "    print(f\"Kolmogorov-Smirnov test statistic for {labels[-1]}:\", stats.kstest(current_deltas[\"delta\"], prepr[\"delta\"]).statistic)\n"
   ]
  },
  {
   "cell_type": "code",
   "execution_count": 20,
   "metadata": {},
   "outputs": [
    {
     "data": {
      "image/png": "[encoded data removed]",
      "text/plain": [
       "<Figure size 700x200 with 2 Axes>"
      ]
     },
     "metadata": {},
     "output_type": "display_data"
    }
   ],
   "source": [
    "plt.figure(figsize=(7, 2))  \n",
    "ax1 = plt.subplot(1, 2, 1)\n",
    "ax2 = plt.subplot(1, 2, 2) \n",
    "\n",
    "\n",
    "ax1.hist(delta_data_to_plot[:2], alpha=0.6, bins=15, density=True, label=labels[:2], color=['b','tab:orange'])\n",
    "ax1.set_xlabel('log(1 + $\\delta$)')\n",
    "ax1.legend()\n",
    "\n",
    "ax2.hist([delta_data_to_plot[0], *delta_data_to_plot[2:]], alpha=0.6, bins=15, density=True, label=[labels[0], *labels[2:]], color=['b','g', 'c', 'm'])\n",
    "ax2.set_xlabel('log(1 + $\\delta$)')\n",
    "ax2.legend()\n",
    "\n",
    "plt.tight_layout()\n",
    "plt.savefig(\"delta_hist.pdf\")\n",
    "\n",
    "plt.show()"
   ]
  },
  {
   "cell_type": "code",
   "execution_count": null,
   "metadata": {},
   "outputs": [],
   "source": []
  }
 ],
 "metadata": {
  "kernelspec": {
   "display_name": "Python 3",
   "language": "python",
   "name": "python3"
  },
  "language_info": {
   "codemirror_mode": {
    "name": "ipython",
    "version": 3
   },
   "file_extension": ".py",
   "mimetype": "text/x-python",
   "name": "python",
   "nbconvert_exporter": "python",
   "pygments_lexer": "ipython3",
   "version": "3.10.16"
  }
 },
 "nbformat": 4,
 "nbformat_minor": 2
}
